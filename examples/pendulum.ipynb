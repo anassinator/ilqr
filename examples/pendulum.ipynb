{
 "cells": [
  {
   "cell_type": "markdown",
   "metadata": {},
   "source": [
    "# Inverted Pendulum Problem\n",
    "\n",
    "The state and control vectors $\\textbf{x}$ and $\\textbf{u}$ are defined as follows:\n",
    "\n",
    "$$\n",
    "\\begin{equation*}\n",
    "\\textbf{x} = \\begin{bmatrix}\n",
    "    \\theta & \\dot{\\theta}\n",
    "    \\end{bmatrix}\n",
    "\\end{equation*}\n",
    "$$\n",
    "\n",
    "$$\n",
    "\\begin{equation*}\n",
    "\\textbf{u} = \\begin{bmatrix}\n",
    "    \\tau\n",
    "    \\end{bmatrix}\n",
    "\\end{equation*}\n",
    "$$\n",
    "\n",
    "The goal is to swing the pendulum upright:\n",
    "\n",
    "$$\n",
    "\\begin{equation*}\n",
    "\\textbf{x}_{goal} = \\begin{bmatrix}\n",
    "    \\pi & 0\n",
    "    \\end{bmatrix}\n",
    "\\end{equation*}\n",
    "$$\n",
    "\n",
    "In order to deal with potential angle wrap-around issues (i.e. $2\\pi = 0$), we\n",
    "augment the state as follows and use that instead:\n",
    "\n",
    "$$\n",
    "\\begin{equation*}\n",
    "\\textbf{x}_{augmented} = \\begin{bmatrix}\n",
    "    \\sin\\theta & \\cos\\theta & \\dot{\\theta}\n",
    "    \\end{bmatrix}\n",
    "\\end{equation*}\n",
    "$$\n",
    "\n",
    "**Note**: The torque is constrained between $-1$ and $1$. This is achieved by\n",
    "instead fitting for unconstrained actions and then applying it to a squashing\n",
    "function $\\tanh(\\textbf{u})$. This is directly embedded into the dynamics model\n",
    "in order to be auto-differentiated. This also means that we need to apply this\n",
    "transformation manually to the output of our iLQR at the end."
   ]
  },
  {
   "cell_type": "code",
   "execution_count": 1,
   "metadata": {},
   "outputs": [],
   "source": [
    "%matplotlib inline"
   ]
  },
  {
   "cell_type": "code",
   "execution_count": 2,
   "metadata": {},
   "outputs": [],
   "source": [
    "from __future__ import print_function"
   ]
  },
  {
   "cell_type": "code",
   "execution_count": 3,
   "metadata": {},
   "outputs": [],
   "source": [
    "import numpy as np\n",
    "import matplotlib.pyplot as plt"
   ]
  },
  {
   "cell_type": "code",
   "execution_count": 4,
   "metadata": {},
   "outputs": [],
   "source": [
    "from ilqr import iLQR\n",
    "from ilqr.cost import QRCost\n",
    "from ilqr.dynamics import constrain\n",
    "from ilqr.examples.pendulum import InvertedPendulumDynamics"
   ]
  },
  {
   "cell_type": "code",
   "execution_count": 5,
   "metadata": {},
   "outputs": [],
   "source": [
    "def on_iteration(iteration_count, xs, us, J_opt, accepted, converged):\n",
    "    J_hist.append(J_opt)\n",
    "    info = \"converged\" if converged else (\"accepted\" if accepted else \"failed\")\n",
    "    final_state = dynamics.reduce_state(xs[-1])\n",
    "    print(\"iteration\", iteration_count, info, J_opt, final_state)"
   ]
  },
  {
   "cell_type": "code",
   "execution_count": 6,
   "metadata": {},
   "outputs": [],
   "source": [
    "dt = 0.01\n",
    "dynamics = InvertedPendulumDynamics(dt)"
   ]
  },
  {
   "cell_type": "code",
   "execution_count": 7,
   "metadata": {},
   "outputs": [],
   "source": [
    "x_goal = dynamics.augment_state(np.array([np.pi, 0.0]))\n",
    "\n",
    "Q = np.array([[100.0, 0.0, 0.0], [0.0, 100.0, 0.0], [0.0, 0.0, 1.0]])\n",
    "Q_terminal = 100 * np.eye(dynamics.state_size)\n",
    "R = np.array([[1.0]])\n",
    "cost = QRCost(Q, R, Q_terminal=Q_terminal, x_goal=x_goal)"
   ]
  },
  {
   "cell_type": "code",
   "execution_count": 8,
   "metadata": {},
   "outputs": [],
   "source": [
    "N = 600\n",
    "\n",
    "# Note that the augmented state is not all 0.\n",
    "x0 = dynamics.augment_state(np.array([0.0, 0.0]))\n",
    "us_init = np.random.uniform(-1, 1, (N, dynamics.action_size))\n",
    "ilqr = iLQR(dynamics, cost, N)"
   ]
  },
  {
   "cell_type": "code",
   "execution_count": 9,
   "metadata": {},
   "outputs": [
    {
     "name": "stdout",
     "output_type": "stream",
     "text": [
      "iteration 0 accepted 240147.54351 [ 0.11932007 -0.08499769]\n",
      "iteration 1 accepted 239634.808347 [ 0.22929695 -0.08485151]\n",
      "iteration 2 accepted 238098.875061 [ 0.42002486 -0.1250911 ]\n",
      "iteration 3 accepted 233592.253186 [ 0.75950274 -0.15747018]\n",
      "iteration 4 accepted 221761.50304 [ 1.36232152  0.03940243]\n",
      "iteration 5 accepted 220466.707646 [ 1.69130258  3.36961509]\n",
      "iteration 6 accepted 209023.737172 [ 1.44125669  4.02961127]\n",
      "iteration 7 accepted 207924.212949 [ 0.85228566  5.2109066 ]\n",
      "iteration 8 accepted 201885.271755 [ 0.21416644  6.15526837]\n",
      "iteration 9 accepted 194300.69618 [-1.57014414  4.4601512 ]\n",
      "iteration 10 accepted 180609.773783 [ 3.0281264 -1.0392002]\n",
      "iteration 11 accepted 178807.585366 [ 2.74919688 -1.86536124]\n",
      "iteration 12 accepted 177427.080731 [ 2.90453456 -1.56536627]\n",
      "iteration 13 accepted 176743.772086 [ 2.93436971 -1.87964723]\n",
      "iteration 14 accepted 174635.175204 [ 2.9823703  -2.10945673]\n",
      "iteration 15 accepted 174601.726946 [ 3.05359999 -2.51219331]\n",
      "iteration 16 accepted 173985.212583 [-3.0608118  -2.70002462]\n",
      "iteration 17 accepted 173611.903779 [-2.82258504 -3.06467149]\n",
      "iteration 18 accepted 170588.254675 [-2.55779727 -3.47898383]\n",
      "iteration 19 accepted 168437.249763 [-2.49908889 -3.31916096]\n",
      "iteration 20 accepted 167730.533375 [-2.45891988 -3.31197022]\n",
      "iteration 21 accepted 167475.655258 [-2.45796108 -3.22316007]\n",
      "iteration 22 accepted 167280.991214 [-2.41425792 -3.4354064 ]\n",
      "iteration 23 accepted 167055.530884 [-2.39734775 -3.35691927]\n",
      "iteration 24 accepted 166857.860538 [-2.40539435 -3.34513114]\n",
      "iteration 25 accepted 166823.243893 [-2.32576936 -3.66279434]\n",
      "iteration 26 accepted 166531.000459 [-2.30508641 -3.56321591]\n",
      "iteration 27 accepted 166360.353438 [-2.30622057 -3.57519967]\n",
      "iteration 28 accepted 166200.032485 [-2.3058514  -3.56521924]\n",
      "iteration 29 accepted 166031.400631 [-2.31161818 -3.54981498]\n",
      "iteration 30 accepted 165894.165393 [-2.32074176 -3.52106496]\n",
      "iteration 31 accepted 165831.299545 [-2.26752107 -3.77483381]\n",
      "iteration 32 accepted 165617.84833 [-2.25805926 -3.65394088]\n",
      "iteration 33 accepted 165500.791981 [-2.23181555 -3.81489588]\n",
      "iteration 34 accepted 165348.759022 [-2.23191156 -3.6958651 ]\n",
      "iteration 35 accepted 165197.601748 [-2.22578446 -3.78611652]\n",
      "iteration 36 accepted 165080.093561 [-2.22669139 -3.72636054]\n",
      "iteration 37 accepted 164936.131865 [-2.2257412  -3.77465981]\n",
      "iteration 38 accepted 164809.658619 [-2.23808176 -3.66919593]\n",
      "iteration 39 accepted 164792.677845 [-2.16412055 -4.04601563]\n",
      "iteration 40 accepted 164564.322024 [-2.14736923 -3.91815896]\n",
      "iteration 41 accepted 164422.792776 [-2.14579077 -3.93274402]\n",
      "iteration 42 accepted 164304.021623 [-2.15208454 -3.8786331 ]\n",
      "iteration 43 accepted 164173.440233 [-2.14475308 -3.9571589 ]\n",
      "iteration 44 accepted 164061.63009 [-2.15527822 -3.83566444]\n",
      "iteration 45 accepted 164002.69673 [-2.09190408 -4.18355848]\n",
      "iteration 46 accepted 163803.500026 [-2.07788932 -4.05449869]\n",
      "iteration 47 accepted 163674.008515 [-2.07599156 -4.07171354]\n",
      "iteration 48 accepted 163545.326791 [-2.07922569 -4.03259247]\n",
      "iteration 49 accepted 163434.220599 [-2.07003759 -4.10917221]\n",
      "iteration 50 accepted 163305.855351 [-2.07941214 -3.98342074]\n",
      "iteration 51 accepted 163248.424122 [-2.01127535 -4.35503639]\n",
      "iteration 52 accepted 163048.981937 [-1.99434052 -4.22824743]\n",
      "iteration 53 accepted 162913.465838 [-1.98729199 -4.25399992]\n",
      "iteration 54 accepted 162795.208599 [-1.98914427 -4.19964513]\n",
      "iteration 55 accepted 162669.013301 [-1.96935396 -4.33035092]\n",
      "iteration 56 accepted 162536.864031 [-1.97115454 -4.20691123]\n",
      "iteration 57 accepted 162434.267081 [-1.92995542 -4.46001424]\n",
      "iteration 58 accepted 162273.263917 [-1.91940353 -4.34354109]\n",
      "iteration 59 accepted 162141.53911 [-1.89814568 -4.46529555]\n",
      "iteration 60 accepted 162018.289051 [-1.89463812 -4.36556587]\n",
      "iteration 61 accepted 161883.604 [-1.85419432 -4.59788911]\n",
      "iteration 62 accepted 161742.774102 [-1.84161168 -4.48584512]\n",
      "iteration 63 accepted 161597.559099 [-1.81081142 -4.64487721]\n",
      "iteration 64 accepted 161458.166027 [-1.7969269  -4.57325816]\n",
      "iteration 65 accepted 161307.017559 [-1.76781696 -4.71086153]\n",
      "iteration 66 accepted 161177.054054 [-1.75168895 -4.65508188]\n",
      "iteration 67 accepted 161008.539271 [-1.71622887 -4.81360689]\n",
      "iteration 68 accepted 160856.556049 [-1.69261482 -4.77813813]\n",
      "iteration 69 accepted 160697.986997 [-1.65521259 -4.91340738]\n",
      "iteration 70 accepted 160542.851211 [-1.62439974 -4.90822638]\n",
      "iteration 71 accepted 160334.731247 [-1.57411105 -5.07776849]\n",
      "iteration 72 accepted 160184.248141 [-1.53028588 -5.09091333]\n",
      "iteration 73 accepted 159956.824979 [-1.46792502 -5.26135641]\n",
      "iteration 74 accepted 159745.263197 [-1.40135169 -5.34465259]\n",
      "iteration 75 accepted 159468.537768 [-1.31206917 -5.54124556]\n",
      "iteration 76 accepted 159168.595341 [-1.20904796 -5.67753217]\n",
      "iteration 77 accepted 158707.168339 [-1.05898034 -5.97930452]\n",
      "iteration 78 accepted 158126.030811 [-0.86747738 -6.21227142]\n",
      "iteration 79 accepted 156959.172891 [-0.56799356 -6.59005741]\n",
      "iteration 80 accepted 155898.70778 [-0.012741   -6.86826861]\n",
      "iteration 81 accepted 149864.017818 [ 1.17656229 -5.64318938]\n",
      "iteration 82 accepted 138187.556603 [ 3.07430606  0.20673219]\n",
      "iteration 83 failed 138187.556603 [ 3.07430606  0.20673219]\n",
      "iteration 84 failed 138187.556603 [ 3.07430606  0.20673219]\n",
      "iteration 85 failed 138187.556603 [ 3.07430606  0.20673219]\n",
      "iteration 86 failed 138187.556603 [ 3.07430606  0.20673219]\n",
      "iteration 87 failed 138187.556603 [ 3.07430606  0.20673219]\n",
      "iteration 88 failed 138187.556603 [ 3.07430606  0.20673219]\n",
      "iteration 89 failed 138187.556603 [ 3.07430606  0.20673219]\n",
      "iteration 90 failed 138187.556603 [ 3.07430606  0.20673219]\n",
      "iteration 91 failed 138187.556603 [ 3.07430606  0.20673219]\n",
      "iteration 92 accepted 138160.235288 [ 3.08967914  0.26350727]\n",
      "iteration 93 failed 138160.235288 [ 3.08967914  0.26350727]\n",
      "iteration 94 accepted 138144.387925 [ 3.09780641  0.29147153]\n",
      "iteration 95 failed 138144.387925 [ 3.09780641  0.29147153]\n",
      "iteration 96 failed 138144.387925 [ 3.09780641  0.29147153]\n",
      "iteration 97 failed 138144.387925 [ 3.09780641  0.29147153]\n",
      "iteration 98 failed 138144.387925 [ 3.09780641  0.29147153]\n",
      "iteration 99 failed 138144.387925 [ 3.09780641  0.29147153]\n",
      "iteration 100 failed 138144.387925 [ 3.09780641  0.29147153]\n",
      "iteration 101 failed 138144.387925 [ 3.09780641  0.29147153]\n",
      "iteration 102 failed 138144.387925 [ 3.09780641  0.29147153]\n",
      "iteration 103 failed 138144.387925 [ 3.09780641  0.29147153]\n",
      "iteration 104 converged 138144.316962 [ 3.09780309  0.29143963]\n"
     ]
    }
   ],
   "source": [
    "J_hist = []\n",
    "xs, us = ilqr.fit(x0, us_init, n_iterations=200, on_iteration=on_iteration)"
   ]
  },
  {
   "cell_type": "code",
   "execution_count": 10,
   "metadata": {},
   "outputs": [],
   "source": [
    "# Reduce the state to something more reasonable.\n",
    "xs = dynamics.reduce_state(xs)\n",
    "\n",
    "# Constrain the actions to see what's actually applied to the system.\n",
    "us = constrain(us, dynamics.min_bounds, dynamics.max_bounds)"
   ]
  },
  {
   "cell_type": "code",
   "execution_count": 11,
   "metadata": {},
   "outputs": [],
   "source": [
    "t = np.arange(N) * dt\n",
    "theta = np.unwrap(xs[:, 0])  # Makes for smoother plots.\n",
    "theta_dot = xs[:, 1]"
   ]
  },
  {
   "cell_type": "code",
   "execution_count": 12,
   "metadata": {},
   "outputs": [
    {
     "data": {
      "text/plain": [
       "<matplotlib.text.Text at 0x10c0e3c88>"
      ]
     },
     "execution_count": 12,
     "metadata": {},
     "output_type": "execute_result"
    },
    {
     "data": {
      "image/png": "[encoded data removed]",
      "text/plain": [
       "<matplotlib.figure.Figure at 0x10c089320>"
      ]
     },
     "metadata": {},
     "output_type": "display_data"
    }
   ],
   "source": [
    "plt.plot(theta, theta_dot)\n",
    "plt.xlabel(\"theta (rad)\")\n",
    "plt.ylabel(\"theta_dot (rad/s)\")\n",
    "plt.title(\"Phase Plot\")"
   ]
  },
  {
   "cell_type": "code",
   "execution_count": 13,
   "metadata": {},
   "outputs": [
    {
     "data": {
      "text/plain": [
       "<matplotlib.text.Text at 0x10c217cf8>"
      ]
     },
     "execution_count": 13,
     "metadata": {},
     "output_type": "execute_result"
    },
    {
     "data": {
      "image/png": "[encoded data removed]",
      "text/plain": [
       "<matplotlib.figure.Figure at 0x10c0e3198>"
      ]
     },
     "metadata": {},
     "output_type": "display_data"
    }
   ],
   "source": [
    "plt.plot(t, us)\n",
    "plt.xlabel(\"time (s)\")\n",
    "plt.ylabel(\"Force (N)\")\n",
    "plt.title(\"Action path\")"
   ]
  },
  {
   "cell_type": "code",
   "execution_count": 14,
   "metadata": {
    "scrolled": true
   },
   "outputs": [
    {
     "data": {
      "text/plain": [
       "<matplotlib.text.Text at 0x10c32e048>"
      ]
     },
     "execution_count": 14,
     "metadata": {},
     "output_type": "execute_result"
    },
    {
     "data": {
      "image/png": "[encoded data removed]",
      "text/plain": [
       "<matplotlib.figure.Figure at 0x1071c5940>"
      ]
     },
     "metadata": {},
     "output_type": "display_data"
    }
   ],
   "source": [
    "plt.plot(J_hist)\n",
    "plt.xlabel(\"Iteration\")\n",
    "plt.ylabel(\"Total cost\")\n",
    "plt.title(\"Total cost-to-go\")"
   ]
  }
 ],
 "metadata": {
  "kernelspec": {
   "display_name": "Python 3",
   "language": "python",
   "name": "python3"
  },
  "language_info": {
   "codemirror_mode": {
    "name": "ipython",
    "version": 3
   },
   "file_extension": ".py",
   "mimetype": "text/x-python",
   "name": "python",
   "nbconvert_exporter": "python",
   "pygments_lexer": "ipython3",
   "version": "3.6.3"
  }
 },
 "nbformat": 4,
 "nbformat_minor": 2
}
